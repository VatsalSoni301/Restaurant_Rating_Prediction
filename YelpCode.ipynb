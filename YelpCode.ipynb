{
 "cells": [
  {
   "cell_type": "code",
   "execution_count": 1,
   "metadata": {},
   "outputs": [],
   "source": [
    "import numpy as np\n",
    "import pandas as pd"
   ]
  },
  {
   "cell_type": "code",
   "execution_count": 12,
   "metadata": {},
   "outputs": [
    {
     "data": {
      "text/plain": [
       "0       My wife took me here on my birthday for breakf...\n",
       "1       I have no idea why some people give bad review...\n",
       "2       love the gyro plate. Rice is so good and I als...\n",
       "3       Rosie, Dakota, and I LOVE Chaparral Dog Park!!...\n",
       "4       General Manager Scott Petello is a good egg!!!...\n",
       "5       Quiessence is, simply put, beautiful.  Full wi...\n",
       "6       Drop what you're doing and drive here. After I...\n",
       "7       Luckily, I didn't have to travel far to make m...\n",
       "8       Definitely come for Happy hour! Prices are ama...\n",
       "9       Nobuo shows his unique talents with everything...\n",
       "10      The oldish man who owns the store is as sweet ...\n",
       "11      Wonderful Vietnamese sandwich shoppe. Their ba...\n",
       "12      They have a limited time thing going on right ...\n",
       "13      Good tattoo shop. Clean space, multiple artist...\n",
       "14      I'm 2 weeks new to Phoenix. I looked up Irish ...\n",
       "15      Was it worth the 21$ for a salad and small piz...\n",
       "16      We went here on a Saturday afternoon and this ...\n",
       "17      okay this is the best place EVER! i grew up sh...\n",
       "18      I met a friend for lunch yesterday. \\n\\nLoved ...\n",
       "19      They've gotten better and better for me in the...\n",
       "20      DVAP....\\n\\nYou have to go at least once in yo...\n",
       "21      This place shouldn't even be reviewed - becaus...\n",
       "22      first time my friend and I went there... it wa...\n",
       "23      U can go there n check the car out. If u wanna...\n",
       "24      I love this place! I have been coming here for...\n",
       "25      This place is great.  A nice little ole' fashi...\n",
       "26      I love love LOVE this place. My boss (who is i...\n",
       "27      Not that my review will mean much given the mo...\n",
       "28      Came here for breakfast yesterday, it had been...\n",
       "29      Always reliably good.  Great beer selection as...\n",
       "                              ...                        \n",
       "9970    This place is super cute lunch joint.  I had t...\n",
       "9971    The staff is great, the food is great, even th...\n",
       "9972    Yay, even though I miss living in Coronado I a...\n",
       "9973    Wow!  Went on a Sunday around 11am - busy but ...\n",
       "9974    If Cowboy Ciao is the best restaurant in Scott...\n",
       "9975    When I lived in Phoenix, I was a regular at Fe...\n",
       "9976    I was looking for chile rellenos and this plac...\n",
       "9977    Why did I wait so long to try this neighborhoo...\n",
       "9978    This is the place for a fabulos breakfast!! I ...\n",
       "9979    Highly recommend. This is my second time here ...\n",
       "9980    5 stars for the great $5 happy hour specials. ...\n",
       "9981    We brought the entire family to Giuseppe's las...\n",
       "9982    Best corned beef sandwich I've had anywhere at...\n",
       "9983    3.5 stars. \\n\\nWe decided to check this place ...\n",
       "9984    Went last night to Whore Foods to get basics t...\n",
       "9985    Awesome food! Little pricey but delicious. Lov...\n",
       "9986    I came here in December and look forward to my...\n",
       "9987    The food is delicious.  The service:  discrimi...\n",
       "9988    For our first time we had a great time! Our se...\n",
       "9989    Great food and service! Country food at its best!\n",
       "9990    Yes I do rock the hipster joints.  I dig this ...\n",
       "9991    Only 4 stars? \\n\\n(A few notes: The folks that...\n",
       "9992    I'm not normally one to jump at reviewing a ch...\n",
       "9993    Judging by some of the reviews, maybe I went o...\n",
       "9994    Let's see...what is there NOT to like about Su...\n",
       "9995    First visit...Had lunch here today - used my G...\n",
       "9996    Should be called house of deliciousness!\\n\\nI ...\n",
       "9997    I recently visited Olive and Ivy for business ...\n",
       "9998    My nephew just moved to Scottsdale recently so...\n",
       "9999    4-5 locations.. all 4.5 star average.. I think...\n",
       "Name: text, Length: 10000, dtype: object"
      ]
     },
     "execution_count": 12,
     "metadata": {},
     "output_type": "execute_result"
    }
   ],
   "source": [
    "df = pd.read_csv(\"yelp.csv\")\n",
    "# df\n",
    "texts = df['text']\n",
    "# texts\n",
    "stars = df['stars']\n",
    "# stars"
   ]
  },
  {
   "cell_type": "code",
   "execution_count": 3,
   "metadata": {},
   "outputs": [],
   "source": [
    "from collections import Counter\n",
    " \n",
    "def balance_classes(xs, ys):\n",
    "    \n",
    "    freqs = Counter(ys)\n",
    "\n",
    "    # the least common class is the maximum number we want for all classes\n",
    "    max_allowable = freqs.most_common()[-1][1]\n",
    "    num_added = {clss: 0 for clss in freqs.keys()}\n",
    "    new_ys = []\n",
    "    new_xs = []\n",
    "    for i, y in enumerate(ys):\n",
    "        if num_added[y] < max_allowable:\n",
    "            new_ys.append(y)\n",
    "            new_xs.append(xs[i])\n",
    "            num_added[y] += 1\n",
    "    return new_xs, new_ys"
   ]
  },
  {
   "cell_type": "code",
   "execution_count": 4,
   "metadata": {},
   "outputs": [
    {
     "name": "stdout",
     "output_type": "stream",
     "text": [
      "Counter({4: 3526, 5: 3337, 3: 1461, 2: 927, 1: 749})\n",
      "Counter({5: 749, 4: 749, 2: 749, 3: 749, 1: 749})\n"
     ]
    }
   ],
   "source": [
    "print(Counter(stars))\n",
    "balanced_x, balanced_y = balance_classes(texts, stars)\n",
    "print(Counter(balanced_y))"
   ]
  },
  {
   "cell_type": "code",
   "execution_count": 5,
   "metadata": {},
   "outputs": [
    {
     "name": "stdout",
     "output_type": "stream",
     "text": [
      "0:00:02.229075\n",
      "0:00:02.183851\n"
     ]
    }
   ],
   "source": [
    "from sklearn.feature_extraction.text import TfidfVectorizer\n",
    "import datetime\n",
    "# This vectorizer breaks text into single words and bi-grams\n",
    "# and then calculates the TF-IDF representation\n",
    "vectorizer = TfidfVectorizer(ngram_range=(1,2))\n",
    "t1 = datetime.datetime.now()\n",
    "\n",
    "# the 'fit' builds up the vocabulary from all the reviews\n",
    "# while the 'transform' step turns each indivdual text into\n",
    "# a matrix of numbers.\n",
    "vectors = vectorizer.fit_transform(balanced_x)\n",
    "print(datetime.datetime.now() - t1)\n",
    "\n",
    "from sklearn.feature_extraction.text import TfidfVectorizer\n",
    " \n",
    "# This vectorizer breaks text into single words and bi-grams\n",
    "# and then calculates the TF-IDF representation\n",
    "vectorizer = TfidfVectorizer(ngram_range=(1,2))\n",
    "t1 = datetime.datetime.now()\n",
    " \n",
    "# the 'fit' builds up the vocabulary from all the reviews\n",
    "# while the 'transform' step turns each indivdual text into\n",
    "# a matrix of numbers.\n",
    "vectors = vectorizer.fit_transform(balanced_x)\n",
    "print(datetime.datetime.now() - t1)"
   ]
  },
  {
   "cell_type": "code",
   "execution_count": 6,
   "metadata": {},
   "outputs": [],
   "source": [
    "from sklearn.model_selection import train_test_split\n",
    "X_train, X_test, y_train, y_test = train_test_split(vectors, balanced_y, test_size=0.33, random_state=42)"
   ]
  },
  {
   "cell_type": "code",
   "execution_count": 7,
   "metadata": {},
   "outputs": [
    {
     "name": "stdout",
     "output_type": "stream",
     "text": [
      "0:00:00.521719\n",
      "0:00:00.761426\n"
     ]
    }
   ],
   "source": [
    "from sklearn.svm import LinearSVC\n",
    "\n",
    "# initialise the SVM classifier\n",
    "classifier = LinearSVC()\n",
    "\n",
    "# train the classifier\n",
    "t1 = datetime.datetime.now()\n",
    "classifier.fit(X_train, y_train)\n",
    "print(datetime.datetime.now() - t1)\n",
    "\n",
    "from sklearn.svm import LinearSVC\n",
    " \n",
    "# initialise the SVM classifier\n",
    "classifier = LinearSVC()\n",
    " \n",
    "# train the classifier\n",
    "t1 = datetime.datetime.now()\n",
    "classifier.fit(X_train, y_train)\n",
    "print(datetime.datetime.now() - t1)"
   ]
  },
  {
   "cell_type": "code",
   "execution_count": 8,
   "metadata": {},
   "outputs": [
    {
     "name": "stdout",
     "output_type": "stream",
     "text": [
      "[2, 3, 3, 1, 2, 1, 1, 4, 5, 4]\n",
      "[2, 4, 3, 4, 2, 1, 4, 4, 5, 3]\n",
      "[2, 3, 3, 1, 2, 1, 1, 4, 5, 4]\n",
      "[2, 4, 3, 4, 2, 1, 4, 4, 5, 3]\n"
     ]
    }
   ],
   "source": [
    "\n",
    "preds = classifier.predict(X_test)\n",
    "print(list(preds[:10]))\n",
    "print(y_test[:10])\n",
    "\n",
    "preds = classifier.predict(X_test)\n",
    "print(list(preds[:10]))\n",
    "print(y_test[:10])"
   ]
  },
  {
   "cell_type": "code",
   "execution_count": 9,
   "metadata": {},
   "outputs": [
    {
     "name": "stdout",
     "output_type": "stream",
     "text": [
      "0.5186084142394822\n"
     ]
    }
   ],
   "source": [
    "from sklearn.metrics import accuracy_score\n",
    "print(accuracy_score(y_test, preds))"
   ]
  },
  {
   "cell_type": "code",
   "execution_count": 10,
   "metadata": {},
   "outputs": [
    {
     "data": {
      "text/plain": [
       "array([[174,  53,   9,   2,   8],\n",
       "       [ 75,  93,  50,  12,  13],\n",
       "       [ 30,  41, 105,  49,  29],\n",
       "       [  7,  10,  43,  94, 100],\n",
       "       [  8,   2,  14,  40, 175]])"
      ]
     },
     "execution_count": 10,
     "metadata": {},
     "output_type": "execute_result"
    }
   ],
   "source": [
    "from sklearn.metrics import confusion_matrix\n",
    "confusion_matrix(y_test, preds)"
   ]
  }
 ],
 "metadata": {
  "kernelspec": {
   "display_name": "Python 3",
   "language": "python",
   "name": "python3"
  },
  "language_info": {
   "codemirror_mode": {
    "name": "ipython",
    "version": 3
   },
   "file_extension": ".py",
   "mimetype": "text/x-python",
   "name": "python",
   "nbconvert_exporter": "python",
   "pygments_lexer": "ipython3",
   "version": "3.6.7"
  }
 },
 "nbformat": 4,
 "nbformat_minor": 2
}
